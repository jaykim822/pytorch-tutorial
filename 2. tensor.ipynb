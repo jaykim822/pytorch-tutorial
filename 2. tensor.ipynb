{
 "cells": [
  {
   "cell_type": "code",
   "execution_count": 2,
   "id": "2035efdd-ec34-49d1-b76b-6fa3f44d6e3b",
   "metadata": {},
   "outputs": [],
   "source": [
    "import torch\n",
    "import numpy as np"
   ]
  },
  {
   "cell_type": "code",
   "execution_count": 8,
   "id": "6f076955-98a8-4a32-9a69-12882406f9f4",
   "metadata": {},
   "outputs": [
    {
     "name": "stdout",
     "output_type": "stream",
     "text": [
      "create a tensor directly with data\n",
      "[[1, 2], [3, 4]]\n",
      "tensor([[1, 2],\n",
      "        [3, 4]])\n"
     ]
    }
   ],
   "source": [
    "# create a tensor directly with data\n",
    "print('create a tensor directly with data')\n",
    "data = [[1, 2], [3,4]]\n",
    "print(data)\n",
    "x_data = torch.tensor(data)\n",
    "print(x_data)"
   ]
  },
  {
   "cell_type": "code",
   "execution_count": 4,
   "id": "587da71a-c28b-4522-92d3-f4a766a70c8c",
   "metadata": {},
   "outputs": [
    {
     "name": "stdout",
     "output_type": "stream",
     "text": [
      "create a tensor with numpy array\n",
      "[[1 2]\n",
      " [3 4]]\n",
      "tensor([[1, 2],\n",
      "        [3, 4]])\n"
     ]
    }
   ],
   "source": [
    "# create a tensor with numpy array\n",
    "print('create a tensor with numpy array')\n",
    "np_array = np.array(data)\n",
    "print(np_array)\n",
    "x_np = torch.from_numpy(np_array)\n",
    "print(x_np)"
   ]
  },
  {
   "cell_type": "code",
   "execution_count": 11,
   "id": "97456ad7-d81e-464f-8a65-34a68aa83488",
   "metadata": {},
   "outputs": [
    {
     "name": "stdout",
     "output_type": "stream",
     "text": [
      "create a tensor with another tensor\n",
      "Ones Tensor: \n",
      " tensor([[1, 1],\n",
      "        [1, 1]]) \n",
      "\n",
      "rand Tensor: \n",
      " tensor([[0.3609, 0.2664],\n",
      "        [0.8784, 0.4243]]) \n",
      "\n"
     ]
    }
   ],
   "source": [
    "# create tensors with another tensor\n",
    "print('create a tensor with another tensor')\n",
    "x_ones = torch.ones_like(x_data)\n",
    "print(f\"Ones Tensor: \\n {x_ones} \\n\")\n",
    "x_rand = torch.rand_like(x_data, dtype=torch.float)\n",
    "print(f\"rand Tensor: \\n {x_rand} \\n\")"
   ]
  },
  {
   "cell_type": "code",
   "execution_count": 17,
   "id": "8839731d-e9c5-463c-9cdf-679aa9d60cca",
   "metadata": {},
   "outputs": [
    {
     "name": "stdout",
     "output_type": "stream",
     "text": [
      "create tensors with random or constant value\n",
      "Rand Tensor: \n",
      " tensor([[0.9840, 0.4366, 0.5297],\n",
      "        [0.1384, 0.5081, 0.4485]])\n",
      "\n",
      "Ones Tensor: \n",
      " tensor([[1., 1., 1.],\n",
      "        [1., 1., 1.]])\n",
      "\n",
      "Zeros Tensor: \n",
      " tensor([[0., 0., 0.],\n",
      "        [0., 0., 0.]])\n",
      "\n"
     ]
    }
   ],
   "source": [
    "# create tensors with random or constant value\n",
    "print('create tensors with random or constant value')\n",
    "shape = (2,3,)\n",
    "rand_tensor = torch.rand(shape)\n",
    "ones_tensor = torch.ones(shape)\n",
    "zeros_tensor = torch.zeros(shape)\n",
    "\n",
    "print(f\"Rand Tensor: \\n {rand_tensor}\\n\")\n",
    "print(f\"Ones Tensor: \\n {ones_tensor}\\n\")\n",
    "print(f\"Zeros Tensor: \\n {zeros_tensor}\\n\")"
   ]
  },
  {
   "cell_type": "code",
   "execution_count": 3,
   "id": "cf698ccd-f637-4485-8d23-9bcb58b25694",
   "metadata": {},
   "outputs": [
    {
     "name": "stdout",
     "output_type": "stream",
     "text": [
      "attributes of tensor\n",
      "Shape of tensor: torch.Size([3, 4])\n",
      "Datatype of tensor: torch.float32\n",
      "Device tensor is stored on: cpu\n"
     ]
    }
   ],
   "source": [
    "# attributes of tensor\n",
    "print('attributes of tensor')\n",
    "tensor = torch.rand(3,4)\n",
    "\n",
    "print(f'Shape of tensor: {tensor.shape}')\n",
    "print(f'Datatype of tensor: {tensor.dtype}')\n",
    "print(f'Device tensor is stored on: {tensor.device}')\n",
    "\n",
    "if torch.cuda.is_available():\n",
    "    tensor = tensor.to(\"cuda\")\n",
    "    print(f'tensor is moved to GPU')\n",
    "    print(f'Device tensor is stored on: {tensor.device}')"
   ]
  },
  {
   "cell_type": "code",
   "execution_count": null,
   "id": "32a44e5b",
   "metadata": {},
   "outputs": [
    {
     "name": "stdout",
     "output_type": "stream",
     "text": [
      "Tensor is: tensor([[0.4536, 0.0291, 0.4900, 0.3723],\n",
      "        [0.1609, 0.8136, 0.6747, 0.2066],\n",
      "        [0.4043, 0.7335, 0.8080, 0.9356],\n",
      "        [0.5692, 0.0753, 0.8906, 0.1370]])\n",
      "Firt row: tensor([0.4536, 0.0291, 0.4900, 0.3723])\n",
      "Firt column: tensor([0.4536, 0.1609, 0.4043, 0.5692])\n",
      "Last column: tensor([0.3723, 0.2066, 0.9356, 0.1370])\n",
      "Tensor is: tensor([[0.4536, 0.0291, 0.4900, 0.0000],\n",
      "        [0.1609, 0.8136, 0.6747, 0.0000],\n",
      "        [0.4043, 0.7335, 0.8080, 0.0000],\n",
      "        [0.5692, 0.0753, 0.8906, 0.0000]])\n",
      "None\n"
     ]
    }
   ],
   "source": [
    "# indexing and slicing of tensor\n",
    "print('indexing and slicing of tensor')\n",
    "tensor = torch.rand(4, 4)\n",
    "print(f'Tensor is: {tensor}')\n",
    "print(f'Firt row: {tensor[0]}')\n",
    "print(f'Firt column: {tensor[:, 0]}')\n",
    "print(f'Last column: {tensor[..., -1]}')\n",
    "tensor[:, -1] = 0\n",
    "print(print(f'Tensor is: {tensor}'))"
   ]
  },
  {
   "cell_type": "code",
   "execution_count": 10,
   "id": "10809412",
   "metadata": {},
   "outputs": [
    {
     "name": "stdout",
     "output_type": "stream",
     "text": [
      "arithmetic operations\n",
      "Tensor is: tensor([[0.8569, 0.3624, 0.0272, 0.1688],\n",
      "        [0.1341, 0.9611, 0.1737, 0.5484],\n",
      "        [0.0658, 0.8909, 0.2267, 0.8765],\n",
      "        [0.8602, 0.6679, 0.5453, 0.5119]])\n",
      "matrix mulplication with @ : tensor([[0.8949, 0.5604, 0.5333, 1.0804],\n",
      "        [0.5604, 1.2725, 1.3850, 1.1327],\n",
      "        [0.5333, 1.3850, 1.6176, 1.2239],\n",
      "        [1.0804, 1.1327, 1.2239, 1.7454]])\n",
      "matrix mulplication with tensor.matmul() : tensor([[0.8949, 0.5604, 0.5333, 1.0804],\n",
      "        [0.5604, 1.2725, 1.3850, 1.1327],\n",
      "        [0.5333, 1.3850, 1.6176, 1.2239],\n",
      "        [1.0804, 1.1327, 1.2239, 1.7454]])\n",
      "matrix mulplication with torch.matmul() : tensor([[0.8949, 0.5604, 0.5333, 1.0804],\n",
      "        [0.5604, 1.2725, 1.3850, 1.1327],\n",
      "        [0.5333, 1.3850, 1.6176, 1.2239],\n",
      "        [1.0804, 1.1327, 1.2239, 1.7454]])\n",
      "element-wise product with * : tensor([[7.3432e-01, 1.3132e-01, 7.3983e-04, 2.8487e-02],\n",
      "        [1.7975e-02, 9.2367e-01, 3.0185e-02, 3.0070e-01],\n",
      "        [4.3294e-03, 7.9363e-01, 5.1393e-02, 7.6824e-01],\n",
      "        [7.3991e-01, 4.4612e-01, 2.9732e-01, 2.6206e-01]])\n",
      "element-wise product with tensor.mul() : tensor([[7.3432e-01, 1.3132e-01, 7.3983e-04, 2.8487e-02],\n",
      "        [1.7975e-02, 9.2367e-01, 3.0185e-02, 3.0070e-01],\n",
      "        [4.3294e-03, 7.9363e-01, 5.1393e-02, 7.6824e-01],\n",
      "        [7.3991e-01, 4.4612e-01, 2.9732e-01, 2.6206e-01]])\n",
      "element-wise product with torch.mul() : tensor([[7.3432e-01, 1.3132e-01, 7.3983e-04, 2.8487e-02],\n",
      "        [1.7975e-02, 9.2367e-01, 3.0185e-02, 3.0070e-01],\n",
      "        [4.3294e-03, 7.9363e-01, 5.1393e-02, 7.6824e-01],\n",
      "        [7.3991e-01, 4.4612e-01, 2.9732e-01, 2.6206e-01]])\n"
     ]
    }
   ],
   "source": [
    "# arithmetic operations\n",
    "print('arithmetic operations')\n",
    "tensor = torch.rand(4, 4)\n",
    "print(f'Tensor is: {tensor}')\n",
    "y1 = tensor @ tensor.T\n",
    "print(f'matrix mulplication with @ : {y1}')\n",
    "y2 = tensor.matmul(tensor.T)\n",
    "print(f'matrix mulplication with tensor.matmul() : {y2}')\n",
    "y3 = torch.rand_like(y1)\n",
    "torch.matmul(tensor, tensor.T, out=y3)\n",
    "print(f'matrix mulplication with torch.matmul() : {y3}')\n",
    "\n",
    "z1 = tensor * tensor\n",
    "print(f'element-wise product with * : {z1}')\n",
    "z2 = tensor.mul(tensor)\n",
    "print(f'element-wise product with tensor.mul() : {z2}')\n",
    "z3 = torch.rand_like(z1)\n",
    "torch.mul(tensor, tensor, out=z3)\n",
    "print(f'element-wise product with torch.mul() : {z3}')"
   ]
  },
  {
   "cell_type": "code",
   "execution_count": null,
   "id": "c6201555",
   "metadata": {},
   "outputs": [
    {
     "name": "stdout",
     "output_type": "stream",
     "text": [
      "single element\n",
      "tensor.sum() is 7.877677917480469\n",
      "tensor.sum() type is <class 'torch.Tensor'>\n",
      "tensor.sum() shape is torch.Size([])\n",
      "tensor.sum() shape is torch.float32\n",
      "tensor aggregation is 7.877677917480469\n",
      "tensor aggregation type is <class 'float'>\n"
     ]
    }
   ],
   "source": [
    "# single element\n",
    "print('single element')\n",
    "agg = tensor.sum()\n",
    "print(f'tensor.sum() is {agg}')\n",
    "print(f'tensor.sum() type is {type(agg)}')\n",
    "print(f'tensor.sum() shape is {agg.shape}')\n",
    "print(f'tensor.sum() shape is {agg.dtype}')\n",
    "\n",
    "agg_item = agg.item()\n",
    "print(f'tensor aggregation is {agg_item}')\n",
    "print(f'tensor aggregation type is {type(agg_item)}')\n"
   ]
  },
  {
   "cell_type": "code",
   "execution_count": 15,
   "id": "a9d5c1e0",
   "metadata": {},
   "outputs": [
    {
     "name": "stdout",
     "output_type": "stream",
     "text": [
      "in-place operation\n",
      "tensor([[0.8569, 0.3624, 0.0272, 0.1688],\n",
      "        [0.1341, 0.9611, 0.1737, 0.5484],\n",
      "        [0.0658, 0.8909, 0.2267, 0.8765],\n",
      "        [0.8602, 0.6679, 0.5453, 0.5119]])\n",
      "tensor([[5.8569, 5.3624, 5.0272, 5.1688],\n",
      "        [5.1341, 5.9611, 5.1737, 5.5484],\n",
      "        [5.0658, 5.8909, 5.2267, 5.8765],\n",
      "        [5.8602, 5.6679, 5.5453, 5.5119]])\n"
     ]
    }
   ],
   "source": [
    "# in-place operation\n",
    "print('in-place operation')\n",
    "\n",
    "print(tensor)\n",
    "tensor.add_(5)\n",
    "print(tensor)"
   ]
  },
  {
   "cell_type": "code",
   "execution_count": 3,
   "id": "1b329d43",
   "metadata": {},
   "outputs": [
    {
     "name": "stdout",
     "output_type": "stream",
     "text": [
      "shared memory between torch and numpy\n",
      "tensor is tensor([1., 1., 1., 1., 1.])\n",
      "numpy is [1. 1. 1. 1. 1.]\n",
      "tensor adds 5\n",
      "tensor is tensor([6., 6., 6., 6., 6.])\n",
      "numpy is [6. 6. 6. 6. 6.]\n",
      "numpy adds 5\n",
      "tensor is tensor([11., 11., 11., 11., 11.])\n",
      "numpy is [11. 11. 11. 11. 11.]\n"
     ]
    }
   ],
   "source": [
    "# shared memory between tensor and numpy array\n",
    "print('shared memory between torch and numpy')\n",
    "\n",
    "t = torch.ones(5)\n",
    "print(f'tensor is {t}')\n",
    "n = t.numpy()\n",
    "print(f'numpy is {n}')\n",
    "\n",
    "print('tensor adds 5')\n",
    "t.add_(5)\n",
    "print(f'tensor is {t}')\n",
    "print(f'numpy is {n}')\n",
    "\n",
    "np.add(n, 5, out=n)\n",
    "print('numpy adds 5')\n",
    "print(f'tensor is {t}')\n",
    "print(f'numpy is {n}')"
   ]
  },
  {
   "cell_type": "code",
   "execution_count": 7,
   "id": "7b38e097",
   "metadata": {},
   "outputs": [
    {
     "name": "stdout",
     "output_type": "stream",
     "text": [
      "transform numpy array to tensor\n",
      "tensor is tensor([1., 1., 1., 1., 1.], dtype=torch.float64)\n",
      "numpy is [1. 1. 1. 1. 1.]\n",
      "tensor adds 5\n",
      "tensor is tensor([6., 6., 6., 6., 6.], dtype=torch.float64)\n",
      "numpy is [6. 6. 6. 6. 6.]\n",
      "numpy adds 5\n",
      "tensor is tensor([11., 11., 11., 11., 11.], dtype=torch.float64)\n",
      "numpy is [11. 11. 11. 11. 11.]\n"
     ]
    }
   ],
   "source": [
    "# transform numpy array to tensor\n",
    "print('transform numpy array to tensor')\n",
    "\n",
    "n = np.ones(5)\n",
    "t = torch.from_numpy(n)\n",
    "\n",
    "print(f'tensor is {t}')\n",
    "print(f'numpy is {n}')\n",
    "\n",
    "print('tensor adds 5')\n",
    "t.add_(5)\n",
    "print(f'tensor is {t}')\n",
    "print(f'numpy is {n}')\n",
    "\n",
    "np.add(n, 5, out=n)\n",
    "print('numpy adds 5')\n",
    "print(f'tensor is {t}')\n",
    "print(f'numpy is {n}')"
   ]
  }
 ],
 "metadata": {
  "kernelspec": {
   "display_name": "Python 3",
   "language": "python",
   "name": "python3"
  },
  "language_info": {
   "codemirror_mode": {
    "name": "ipython",
    "version": 3
   },
   "file_extension": ".py",
   "mimetype": "text/x-python",
   "name": "python",
   "nbconvert_exporter": "python",
   "pygments_lexer": "ipython3",
   "version": "3.12.1"
  }
 },
 "nbformat": 4,
 "nbformat_minor": 5
}
